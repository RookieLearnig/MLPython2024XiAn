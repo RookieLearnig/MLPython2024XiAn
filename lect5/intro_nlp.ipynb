{
 "cells": [
  {
   "cell_type": "markdown",
   "metadata": {},
   "source": [
    "# Introduction to Natural Language Processing\n",
    "\n",
    "Natural Language Processing (NLP) is a field of artificial intelligence (AI) that focuses on enabling computers to understand, interpret, generate, and respond to human language in a way that is both meaningful and useful.\n",
    "\n",
    "## NLP tasks\n",
    "\n",
    "- Sentiment Analysis: Determining the sentiment or emotion expressed in a piece of text.\n",
    "    - Example: Monitoring social media for public opinion on brands or products.\n",
    "- Machine Translation: Automatically translating text from one language to another.\n",
    "    - Example: Google Translate facilitating communication between speakers of different languages\n",
    "- Text Summarization: Producing a concise and coherent summary of a longer text document.\n",
    "    - Example: Summarizing lengthy documents or articles for quick information retrieval in news aggregators.\n",
    "- Speech Recognition: Converting spoken language into written text.\n",
    "    - Example: Voice-activated assistants like Apple’s Siri or Google Assistant.\n",
    "- Text classification: Assigning predefined categories to text documents.\n",
    "    - Example: Classifying emails as \"spam\" or \"not spam.\"\n",
    "- Question Answering: Building systems that automatically answer questions posed by humans in natural language.\n",
    "    - Example: ChatGPT, Geminy\n",
    "\n",
    "**Note**. In many real applications, more than one task is usually included."
   ]
  },
  {
   "cell_type": "markdown",
   "metadata": {},
   "source": [
    "Natural Language Processing (NLP) is a highly complex field, encompassing various techniques and challenges, often requiring an entire course to fully grasp and master its details.\n",
    "\n",
    "In this lecture, we will create a simple application that provides an introduction to key concepts and practices in Machine Learning Programming (MLP). The application is the generation of new names, based on a collection of already known names."
   ]
  },
  {
   "cell_type": "code",
   "execution_count": null,
   "metadata": {},
   "outputs": [],
   "source": []
  }
 ],
 "metadata": {
  "kernelspec": {
   "display_name": "torch_teach",
   "language": "python",
   "name": "python3"
  },
  "language_info": {
   "codemirror_mode": {
    "name": "ipython",
    "version": 3
   },
   "file_extension": ".py",
   "mimetype": "text/x-python",
   "name": "python",
   "nbconvert_exporter": "python",
   "pygments_lexer": "ipython3",
   "version": "3.10.14"
  }
 },
 "nbformat": 4,
 "nbformat_minor": 2
}
