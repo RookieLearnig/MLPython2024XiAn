{
 "cells": [
  {
   "cell_type": "markdown",
   "metadata": {},
   "source": [
    "# Lecture 5: Natural Language Processing (NLP) and Language Models\n",
    "\n",
    "- [Introduction to NLP](intro_nlp.ipynb)\n",
    "- [Detecting polarity in twits](twitter_language.ipynb)\n",
    "- [Generating names using bigrams](bigrams_generation.ipynb)\n",
    "- [Improving the generator by using a neural network](bigrams_mlp.ipynb)\n",
    "- [Introduction to Embeddings](intro_embeddings.ipynb)\n",
    "- [More complex models](mlp_2.ipynb)\n",
    "- [Attention](intro_attention.ipynb)\n",
    "- [Transformers architecture](transformer.ipynb)"
   ]
  },
  {
   "cell_type": "markdown",
   "metadata": {},
   "source": []
  }
 ],
 "metadata": {
  "language_info": {
   "name": "python"
  }
 },
 "nbformat": 4,
 "nbformat_minor": 2
}
