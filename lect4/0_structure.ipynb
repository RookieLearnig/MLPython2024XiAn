{
 "cells": [
  {
   "cell_type": "markdown",
   "metadata": {},
   "source": [
    "# Lecture 4. Introduction to Computer Vision\n",
    "\n",
    "- [Introduction to OpenCV framework](opencv_intro.ipynb)\n",
    "- [Convolutional Neural Networks (CNNs)](cnn.ipynb)\n",
    "- Some networks in action (real demo)\n",
    "- [Keypoint detection](keypoints.ipynb)\n",
    "- [Object detection](obj_detect.ipynb)\n",
    "- [Generative Adversarial Networks (GANs)](gan.ipynb)"
   ]
  },
  {
   "cell_type": "markdown",
   "metadata": {},
   "source": []
  }
 ],
 "metadata": {
  "language_info": {
   "name": "python"
  }
 },
 "nbformat": 4,
 "nbformat_minor": 2
}
